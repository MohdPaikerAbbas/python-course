{
 "cells": [
  {
   "cell_type": "markdown",
   "metadata": {},
   "source": [
    "# TUPLE"
   ]
  },
  {
   "cell_type": "code",
   "execution_count": 1,
   "metadata": {},
   "outputs": [
    {
     "name": "stdout",
     "output_type": "stream",
     "text": [
      "(1, 3, 5, 8, 4)\n",
      "<class 'tuple'>\n"
     ]
    }
   ],
   "source": [
    "a=(1,3,5,8,4)\n",
    "print(a)\n",
    "print(type(a))"
   ]
  },
  {
   "cell_type": "code",
   "execution_count": 2,
   "metadata": {},
   "outputs": [
    {
     "name": "stdout",
     "output_type": "stream",
     "text": [
      "(1, 5, 8, 9, 8, 4, 5, 5, 8, 7, 3, 2, 5, 4)\n",
      "<class 'tuple'>\n"
     ]
    }
   ],
   "source": [
    "b=1,5,8,9,8,4,5,5,8,7,3,2,5,4\n",
    "print(b)\n",
    "print(type(b))"
   ]
  },
  {
   "cell_type": "code",
   "execution_count": 3,
   "metadata": {},
   "outputs": [
    {
     "name": "stdout",
     "output_type": "stream",
     "text": [
      "1\n",
      "3\n",
      "5\n",
      "8\n",
      "4\n"
     ]
    }
   ],
   "source": [
    "for val in a:\n",
    "    print(val)"
   ]
  },
  {
   "cell_type": "code",
   "execution_count": 4,
   "metadata": {},
   "outputs": [
    {
     "name": "stdout",
     "output_type": "stream",
     "text": [
      "(1, 2, 3, 4, 5, 6)\n"
     ]
    }
   ],
   "source": [
    "print((1,2,3)+(4,5,6))"
   ]
  },
  {
   "cell_type": "code",
   "execution_count": 5,
   "metadata": {},
   "outputs": [
    {
     "name": "stdout",
     "output_type": "stream",
     "text": [
      "2\n"
     ]
    }
   ],
   "source": [
    "my_tuple=('a','p','c','p','a')\n",
    "print(my_tuple.count('p'))"
   ]
  },
  {
   "cell_type": "markdown",
   "metadata": {},
   "source": [
    "# SETS"
   ]
  },
  {
   "cell_type": "code",
   "execution_count": 7,
   "metadata": {},
   "outputs": [
    {
     "name": "stdout",
     "output_type": "stream",
     "text": [
      "{96, 1, 2, 3, 8, 44, 15, 55}\n",
      "<class 'set'>\n"
     ]
    }
   ],
   "source": [
    "s1={1,3,55,44,8,3,55,1,15,96,2}\n",
    "print(s1)\n",
    "print(type(s1))"
   ]
  },
  {
   "cell_type": "code",
   "execution_count": 8,
   "metadata": {},
   "outputs": [
    {
     "name": "stdout",
     "output_type": "stream",
     "text": [
      "{1, 2, 3, 5}\n"
     ]
    }
   ],
   "source": [
    "my_set=set([1,2,3,5,5,3])\n",
    "print(my_set)"
   ]
  },
  {
   "cell_type": "code",
   "execution_count": 9,
   "metadata": {},
   "outputs": [
    {
     "name": "stdout",
     "output_type": "stream",
     "text": [
      "<class 'set'>\n"
     ]
    }
   ],
   "source": [
    "a=set()\n",
    "print(type(a))"
   ]
  },
  {
   "cell_type": "code",
   "execution_count": 10,
   "metadata": {},
   "outputs": [
    {
     "name": "stdout",
     "output_type": "stream",
     "text": [
      "{1, 3}\n",
      "{1, 2, 3}\n",
      "{1, 2, 3, 4}\n"
     ]
    }
   ],
   "source": [
    "my_set={1,3}\n",
    "print(my_set)\n",
    "my_set.add(2)\n",
    "print(my_set)\n",
    "my_set.update([2,3,4])\n",
    "print(my_set)"
   ]
  },
  {
   "cell_type": "code",
   "execution_count": 11,
   "metadata": {},
   "outputs": [
    {
     "name": "stdout",
     "output_type": "stream",
     "text": [
      "{1, 2, 3}\n"
     ]
    }
   ],
   "source": [
    "my_set.discard(4)\n",
    "print(my_set)"
   ]
  },
  {
   "cell_type": "code",
   "execution_count": 12,
   "metadata": {},
   "outputs": [
    {
     "name": "stdout",
     "output_type": "stream",
     "text": [
      "{2, 3}\n"
     ]
    }
   ],
   "source": [
    "my_set.pop()\n",
    "print(my_set)"
   ]
  },
  {
   "cell_type": "code",
   "execution_count": 13,
   "metadata": {},
   "outputs": [
    {
     "name": "stdout",
     "output_type": "stream",
     "text": [
      "set()\n"
     ]
    }
   ],
   "source": [
    "my_set.clear()\n",
    "print(my_set)"
   ]
  },
  {
   "cell_type": "code",
   "execution_count": 25,
   "metadata": {},
   "outputs": [
    {
     "name": "stdout",
     "output_type": "stream",
     "text": [
      "{1, 2, 3, 4, 5, 6, 8, 9, 56}\n",
      "{1, 4, 5, 6, 8}\n",
      "{56, 2, 3}\n",
      "{9}\n",
      "{2, 3, 9, 56}\n"
     ]
    }
   ],
   "source": [
    "A={2,8,6,4,56,1,2,5,3}\n",
    "B={1,5,6,8,6,4,8,5,9}\n",
    "print(A|B)\n",
    "print(A&B)\n",
    "print(A-B)\n",
    "print(B-A)\n",
    "print(A^B)"
   ]
  },
  {
   "cell_type": "code",
   "execution_count": 26,
   "metadata": {},
   "outputs": [
    {
     "name": "stdout",
     "output_type": "stream",
     "text": [
      "{1, 2, 3, 4, 5, 6, 8, 9, 56}\n",
      "{1, 4, 5, 6, 8}\n",
      "{56, 2, 3}\n",
      "{2, 3, 9, 56}\n"
     ]
    }
   ],
   "source": [
    "A={2,8,6,4,56,1,2,5,3}\n",
    "B={1,5,6,8,6,4,8,5,9}\n",
    "print(A.union(B))\n",
    "print(A.intersection(B))\n",
    "print(A.difference(B))\n",
    "print(A.symmetric_difference(B))"
   ]
  },
  {
   "cell_type": "code",
   "execution_count": 23,
   "metadata": {},
   "outputs": [
    {
     "name": "stdout",
     "output_type": "stream",
     "text": [
      "{1, 2, 3, 4, 5, 6, 8, 9, 56}\n",
      "{1, 4, 5, 6, 8}\n",
      "{9}\n"
     ]
    }
   ],
   "source": [
    "A={2,8,6,4,56,1,2,5,3}\n",
    "B={1,5,6,8,6,4,8,5,9}\n",
    "print(B.union(A))\n",
    "print(B.intersection(A))\n",
    "print(B.difference(A))"
   ]
  },
  {
   "cell_type": "code",
   "execution_count": 28,
   "metadata": {},
   "outputs": [
    {
     "name": "stdout",
     "output_type": "stream",
     "text": [
      "{'Oven', 'Iron', 'Fridge', 'TV', 'AC', 'Tubelight', 'Fan', 'Mixer'}\n",
      "{'Oven', 'Tubelight'}\n",
      "{'Fridge', 'Fan', 'AC'}\n",
      "{'TV', 'Iron', 'Mixer'}\n",
      "{'Iron', 'Mixer', 'AC', 'Fridge', 'Fan', 'TV'}\n"
     ]
    }
   ],
   "source": [
    "A1={'Fan','AC','Tubelight','Oven','Fridge'}\n",
    "A2={'Tubelight','Mixer','Oven','TV','Iron'}\n",
    "print(A1|A2)#UNION\n",
    "print(A1&A2)#INTERSECTION\n",
    "print(A1-A2)#DIFFERENCE\n",
    "print(A2-A1)\n",
    "print(A1^A2)#SYMMETRIC_DIFFERENCE"
   ]
  },
  {
   "cell_type": "markdown",
   "metadata": {},
   "source": [
    "# DICTIONARY"
   ]
  },
  {
   "cell_type": "code",
   "execution_count": 31,
   "metadata": {},
   "outputs": [
    {
     "name": "stdout",
     "output_type": "stream",
     "text": [
      "Jack\n",
      "26\n",
      "{'name': 'Jack', 'age': 26}\n"
     ]
    }
   ],
   "source": [
    "dict={'name':'Jack','age':26}\n",
    "print(dict['name'])\n",
    "print(dict['age'])\n",
    "print(dict)"
   ]
  },
  {
   "cell_type": "code",
   "execution_count": 45,
   "metadata": {},
   "outputs": [
    {
     "name": "stdout",
     "output_type": "stream",
     "text": [
      "{'name': 'Jack', 'age': 35, 'address': 'Downtown'}\n"
     ]
    }
   ],
   "source": [
    "dict['age']=35\n",
    "dict['address']='Downtown'\n",
    "print(dict)"
   ]
  },
  {
   "cell_type": "code",
   "execution_count": 47,
   "metadata": {},
   "outputs": [
    {
     "name": "stdout",
     "output_type": "stream",
     "text": [
      "25\n",
      "{1: 1, 2: 2, 4: 8, 3: 5}\n"
     ]
    }
   ],
   "source": [
    "squares={1:1,2:2,4:8,5:25,3:5}\n",
    "print(squares.pop(5))\n",
    "print(squares)"
   ]
  },
  {
   "cell_type": "code",
   "execution_count": 4,
   "metadata": {},
   "outputs": [],
   "source": [
    "report={\n",
    "    'student 1':{\n",
    "        'name': 'John',\n",
    "        'marks':{\n",
    "            'math': 80,\n",
    "            'science': 90,\n",
    "            'history': 70,\n",
    "            'english': 60,\n",
    "            'evs':80\n",
    "        }\n",
    "    },\n",
    "    'student 2': {\n",
    "        'name': 'Mary',\n",
    "        'marks': {\n",
    "            'math': 60,\n",
    "            'science': 98,\n",
    "            'history': 60,\n",
    "            'english': 50,\n",
    "            'evs':80\n",
    "        }\n",
    "    }\n",
    "}\n"
   ]
  },
  {
   "cell_type": "code",
   "execution_count": 5,
   "metadata": {},
   "outputs": [
    {
     "name": "stdout",
     "output_type": "stream",
     "text": [
      "Student: student 1\n",
      "John\n",
      "name John\n",
      "marks {'math': 80, 'science': 90, 'history': 70, 'english': 60, 'evs': 80}\n",
      "Student: student 2\n",
      "Mary\n",
      "name Mary\n",
      "marks {'math': 60, 'science': 98, 'history': 60, 'english': 50, 'evs': 80}\n"
     ]
    }
   ],
   "source": [
    "# nested loop for dictionary\n",
    "for k,v in report.items():\n",
    "    print(\"Student:\",k)\n",
    "    if isinstance(v,dict):\n",
    "        for k1,v1 in v.items():\n",
    "            if isinstance(v1,dict):\n",
    "                for sub,marks in v.items():\n",
    "                    print(sub,marks)\n",
    "            else:\n",
    "                print(v1)\n",
    "    else:\n",
    "        print(v)                    "
   ]
  },
  {
   "cell_type": "code",
   "execution_count": null,
   "metadata": {},
   "outputs": [],
   "source": []
  },
  {
   "cell_type": "code",
   "execution_count": null,
   "metadata": {},
   "outputs": [],
   "source": []
  }
 ],
 "metadata": {
  "kernelspec": {
   "display_name": "Python 3.9.12 ('base')",
   "language": "python",
   "name": "python3"
  },
  "language_info": {
   "codemirror_mode": {
    "name": "ipython",
    "version": 3
   },
   "file_extension": ".py",
   "mimetype": "text/x-python",
   "name": "python",
   "nbconvert_exporter": "python",
   "pygments_lexer": "ipython3",
   "version": "3.9.12"
  },
  "orig_nbformat": 4,
  "vscode": {
   "interpreter": {
    "hash": "c2a45b14d845e25b6e1ccfe89678e79c672e8c1e8e7566573eec535183b18a0e"
   }
  }
 },
 "nbformat": 4,
 "nbformat_minor": 2
}
