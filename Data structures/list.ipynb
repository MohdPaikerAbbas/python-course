{
 "cells": [
  {
   "cell_type": "code",
   "execution_count": null,
   "metadata": {},
   "outputs": [],
   "source": [
    "*DEFYNING LIST IN PYTHON*"
   ]
  },
  {
   "cell_type": "code",
   "execution_count": 1,
   "metadata": {},
   "outputs": [],
   "source": [
    "#List of strings\n",
    "list1=['paiker','rahbar','aman','rahul']"
   ]
  },
  {
   "cell_type": "code",
   "execution_count": 2,
   "metadata": {},
   "outputs": [],
   "source": [
    "#List of numbers\n",
    "list2=[1,2,3,4,5,6]"
   ]
  },
  {
   "cell_type": "code",
   "execution_count": 3,
   "metadata": {},
   "outputs": [],
   "source": [
    "#Mixed data list\n",
    "list3=[1,2,'paiker',5,'aman','rahul']"
   ]
  },
  {
   "cell_type": "code",
   "execution_count": 4,
   "metadata": {},
   "outputs": [],
   "source": [
    "#Nested List\n",
    "list4=[[1,2,3],[4,5,6,5],[8,9,5,8,2]]"
   ]
  },
  {
   "cell_type": "code",
   "execution_count": 5,
   "metadata": {},
   "outputs": [
    {
     "name": "stdout",
     "output_type": "stream",
     "text": [
      "[3, 4, 55, 6, 98]\n"
     ]
    }
   ],
   "source": [
    "#Getting a list slice\n",
    "l=[0,1,2,3,4,55,6,98,88,55]\n",
    "slice1=l[3:-2]\n",
    "print(slice1)"
   ]
  },
  {
   "cell_type": "code",
   "execution_count": 6,
   "metadata": {},
   "outputs": [],
   "source": [
    "books=['Legion','Legion:skin deep','Harry Potter','The Vampire Diaries','The Song of ice and fire']"
   ]
  },
  {
   "cell_type": "code",
   "execution_count": 7,
   "metadata": {},
   "outputs": [
    {
     "data": {
      "text/plain": [
       "['Legion', 'Legion:skin deep', 'Harry Potter']"
      ]
     },
     "execution_count": 7,
     "metadata": {},
     "output_type": "execute_result"
    }
   ],
   "source": [
    "books[:3]"
   ]
  },
  {
   "cell_type": "code",
   "execution_count": 8,
   "metadata": {},
   "outputs": [
    {
     "data": {
      "text/plain": [
       "['Harry Potter', 'The Vampire Diaries', 'The Song of ice and fire']"
      ]
     },
     "execution_count": 8,
     "metadata": {},
     "output_type": "execute_result"
    }
   ],
   "source": [
    "books[-3:]"
   ]
  },
  {
   "cell_type": "code",
   "execution_count": 9,
   "metadata": {},
   "outputs": [
    {
     "data": {
      "text/plain": [
       "[]"
      ]
     },
     "execution_count": 9,
     "metadata": {},
     "output_type": "execute_result"
    }
   ],
   "source": [
    "books[3:-3]"
   ]
  },
  {
   "cell_type": "code",
   "execution_count": 22,
   "metadata": {},
   "outputs": [],
   "source": [
    "#Append function\n",
    "fruits=[]\n",
    "fruits.append('apple')\n",
    "fruits.append('banana')\n",
    "fruits.append('grapes')\n",
    "fruits.append('orange')\n",
    "fruits.append('mango')"
   ]
  },
  {
   "cell_type": "code",
   "execution_count": 12,
   "metadata": {},
   "outputs": [
    {
     "name": "stdout",
     "output_type": "stream",
     "text": [
      "['apple', 'banana', 'grapes', 'orange', 'mango']\n"
     ]
    }
   ],
   "source": [
    "print(fruits)"
   ]
  },
  {
   "cell_type": "code",
   "execution_count": 13,
   "metadata": {},
   "outputs": [
    {
     "name": "stdout",
     "output_type": "stream",
     "text": [
      "['apple', 'banana', 'guava', 'grapes', 'orange', 'mango']\n"
     ]
    }
   ],
   "source": [
    "#Insert fuction\n",
    "fruits.insert(2,'guava')\n",
    "print(fruits)"
   ]
  },
  {
   "cell_type": "code",
   "execution_count": 14,
   "metadata": {},
   "outputs": [
    {
     "name": "stdout",
     "output_type": "stream",
     "text": [
      "['apple', 'banana', 'guava', 'grapes', 'orange', 'cherry', 'mango']\n"
     ]
    }
   ],
   "source": [
    "fruits.insert(-1,'cherry')\n",
    "print(fruits)"
   ]
  },
  {
   "cell_type": "code",
   "execution_count": 23,
   "metadata": {},
   "outputs": [
    {
     "name": "stdout",
     "output_type": "stream",
     "text": [
      "['apple', 'banana', 'grapes', 'orange', 'mango', 'Almonds', 'cashew', 'walnut']\n"
     ]
    }
   ],
   "source": [
    "#Extend function\n",
    "dry_fruits=['Almonds','cashew','walnut']\n",
    "fruits.extend(dry_fruits)\n",
    "print(fruits)"
   ]
  },
  {
   "cell_type": "code",
   "execution_count": 24,
   "metadata": {},
   "outputs": [
    {
     "name": "stdout",
     "output_type": "stream",
     "text": [
      "['Almonds', 'apple', 'banana', 'cashew', 'grapes', 'mango', 'orange', 'walnut']\n"
     ]
    }
   ],
   "source": [
    "#Sort Function\n",
    "fruits.sort()\n",
    "print(fruits)"
   ]
  },
  {
   "cell_type": "code",
   "execution_count": 34,
   "metadata": {},
   "outputs": [
    {
     "name": "stdout",
     "output_type": "stream",
     "text": [
      "[1, 2, 2, 2, 3, 4, 5, 6, 7, 8, 9]\n"
     ]
    }
   ],
   "source": [
    "x=[9,8,7,6,4,5,2,1,2,3,2]\n",
    "x.sort()\n",
    "print(x)"
   ]
  },
  {
   "cell_type": "code",
   "execution_count": 26,
   "metadata": {},
   "outputs": [
    {
     "name": "stdout",
     "output_type": "stream",
     "text": [
      "['walnut', 'orange', 'mango', 'grapes', 'cashew', 'banana', 'apple', 'Almonds']\n"
     ]
    }
   ],
   "source": [
    "#reverse function\n",
    "fruits.sort(reverse=True)\n",
    "print(fruits)"
   ]
  },
  {
   "cell_type": "code",
   "execution_count": 32,
   "metadata": {},
   "outputs": [
    {
     "name": "stdout",
     "output_type": "stream",
     "text": [
      "[2, 2, 2, 3, 4, 5, 6, 7, 8, 9]\n",
      "[2, 2, 2, 3, 4, 5, 6, 7, 8, 9]\n"
     ]
    }
   ],
   "source": [
    "#Remove function\n",
    "if 1 in x:\n",
    "    x.remove(1)\n",
    "print(x)\n",
    "if 85 in x:\n",
    "    x.remove(85)\n",
    "print(x)"
   ]
  },
  {
   "cell_type": "code",
   "execution_count": 36,
   "metadata": {},
   "outputs": [
    {
     "data": {
      "text/plain": [
       "3"
      ]
     },
     "execution_count": 36,
     "metadata": {},
     "output_type": "execute_result"
    }
   ],
   "source": [
    "#Count function\n",
    "x.count(2)"
   ]
  },
  {
   "cell_type": "code",
   "execution_count": 2,
   "metadata": {},
   "outputs": [
    {
     "data": {
      "text/plain": [
       "5"
      ]
     },
     "execution_count": 2,
     "metadata": {},
     "output_type": "execute_result"
    }
   ],
   "source": [
    "y=[1,1,1,1,2,2,2,2,5,6,7,8,2,6,1]\n",
    "y.count(1)"
   ]
  },
  {
   "cell_type": "code",
   "execution_count": 40,
   "metadata": {},
   "outputs": [
    {
     "data": {
      "text/plain": [
       "5"
      ]
     },
     "execution_count": 40,
     "metadata": {},
     "output_type": "execute_result"
    }
   ],
   "source": [
    "#index function\n",
    "fruits.index('banana')"
   ]
  },
  {
   "cell_type": "code",
   "execution_count": 7,
   "metadata": {},
   "outputs": [
    {
     "name": "stdout",
     "output_type": "stream",
     "text": [
      "[1, 2, 2, 2, 2, 5, 6, 7, 8, 2, 6]\n"
     ]
    }
   ],
   "source": [
    "y.pop(1)\n",
    "print(y)"
   ]
  },
  {
   "cell_type": "markdown",
   "metadata": {},
   "source": [
    "*wap to create a list of 5 values given by user*"
   ]
  },
  {
   "cell_type": "code",
   "execution_count": 8,
   "metadata": {},
   "outputs": [
    {
     "name": "stdout",
     "output_type": "stream",
     "text": [
      "['banana', 'guava', 'grapes', 'apple', 'mango']\n"
     ]
    }
   ],
   "source": [
    "ex=[]\n",
    "for i in range(5):\n",
    "    val=input(f'enter value {i+1}:')\n",
    "    ex.append(val)\n",
    "print(ex)"
   ]
  },
  {
   "cell_type": "markdown",
   "metadata": {},
   "source": [
    "*wap to display sum of list*"
   ]
  },
  {
   "cell_type": "code",
   "execution_count": 9,
   "metadata": {},
   "outputs": [
    {
     "name": "stdout",
     "output_type": "stream",
     "text": [
      "25\n",
      "61\n",
      "75\n",
      "131\n",
      "186\n"
     ]
    }
   ],
   "source": [
    "data=[25,36,14,56,55]\n",
    "total=0\n",
    "for i in data:\n",
    "    total+=i\n",
    "    print(total)"
   ]
  },
  {
   "cell_type": "code",
   "execution_count": 2,
   "metadata": {},
   "outputs": [
    {
     "name": "stdout",
     "output_type": "stream",
     "text": [
      "5.181818181818182\n",
      "5\n",
      "2\n",
      "9\n"
     ]
    }
   ],
   "source": [
    "from statistics import median\n",
    "\n",
    "\n",
    "x=[2,4,3,6,9,4,6,2,8,5,8]\n",
    "mean=sum(x)/len(x)\n",
    "print(mean)\n",
    "print(median(x))\n",
    "print(min(x))\n",
    "print(max(x))"
   ]
  },
  {
   "cell_type": "code",
   "execution_count": 19,
   "metadata": {},
   "outputs": [
    {
     "name": "stdout",
     "output_type": "stream",
     "text": [
      "[4, 10, 12, 15]\n"
     ]
    }
   ],
   "source": [
    "a1=[2,5,4,8]\n",
    "b1=[2,5,8,7]\n",
    "n1=[]\n",
    "for i ,j in zip(a1,b1):\n",
    "    \n",
    "       n1.append(i+j)\n",
    "       \n",
    "print(n1)"
   ]
  },
  {
   "cell_type": "code",
   "execution_count": 23,
   "metadata": {},
   "outputs": [
    {
     "name": "stdout",
     "output_type": "stream",
     "text": [
      "[2, 3, 5, 6, 9, 8, 6, 5, 1, 3, 9, 7]\n",
      "[4, 9, 25, 36, 81, 64, 36, 25, 1, 9, 81, 49]\n"
     ]
    }
   ],
   "source": [
    "a=[2,3,5,6,9,8,6,5,1,3,9,7]\n",
    "b=[]\n",
    "for i in a:\n",
    "        b.append(i**2)\n",
    "print(a)\n",
    "print(b)        \n"
   ]
  },
  {
   "cell_type": "code",
   "execution_count": 22,
   "metadata": {},
   "outputs": [
    {
     "name": "stdout",
     "output_type": "stream",
     "text": [
      "[2, 3, 5, 6, 9, 8, 6, 5, 1, 3, 9, 7]\n",
      "[9, 25, 81, 25, 1, 9, 81, 49]\n"
     ]
    }
   ],
   "source": [
    "a=[2,3,5,6,9,8,6,5,1,3,9,7]\n",
    "b=[]\n",
    "for i in a:\n",
    "    if i%2!=0:\n",
    "        b.append(i**2)\n",
    "print(a)\n",
    "print(b)        \n"
   ]
  },
  {
   "cell_type": "code",
   "execution_count": 1,
   "metadata": {},
   "outputs": [
    {
     "name": "stdout",
     "output_type": "stream",
     "text": [
      "['L', 'Ld', 'HP', 'TVD', 'TSoiaf']\n"
     ]
    }
   ],
   "source": [
    "books=['Legion','Legion:skin deep','Harry Potter','The Vampire Diaries','The Song of ice and fire']\n",
    "a=[]\n",
    "for item in books:\n",
    "    items=item.split()\n",
    "    s=''\n",
    "    for i in items:\n",
    "        s+=i[0]\n",
    "    a.append(s)\n",
    "print(a)        "
   ]
  },
  {
   "cell_type": "code",
   "execution_count": null,
   "metadata": {},
   "outputs": [],
   "source": [
    "entries=input('enter data to be separated with space ')"
   ]
  }
 ],
 "metadata": {
  "kernelspec": {
   "display_name": "Python 3.9.12 ('base')",
   "language": "python",
   "name": "python3"
  },
  "language_info": {
   "codemirror_mode": {
    "name": "ipython",
    "version": 3
   },
   "file_extension": ".py",
   "mimetype": "text/x-python",
   "name": "python",
   "nbconvert_exporter": "python",
   "pygments_lexer": "ipython3",
   "version": "3.9.12"
  },
  "orig_nbformat": 4,
  "vscode": {
   "interpreter": {
    "hash": "c2a45b14d845e25b6e1ccfe89678e79c672e8c1e8e7566573eec535183b18a0e"
   }
  }
 },
 "nbformat": 4,
 "nbformat_minor": 2
}
