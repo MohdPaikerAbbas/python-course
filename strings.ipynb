{
 "cells": [
  {
   "cell_type": "markdown",
   "metadata": {},
   "source": [
    "* CONCATENATION IN STRINGS"
   ]
  },
  {
   "cell_type": "code",
   "execution_count": 2,
   "metadata": {},
   "outputs": [
    {
     "name": "stdout",
     "output_type": "stream",
     "text": [
      "applejuice\n"
     ]
    }
   ],
   "source": [
    "a='apple'\n",
    "b='juice'\n",
    "ab=a+b\n",
    "print(ab)"
   ]
  },
  {
   "cell_type": "code",
   "execution_count": 3,
   "metadata": {},
   "outputs": [
    {
     "name": "stdout",
     "output_type": "stream",
     "text": [
      "this is amazing\n"
     ]
    }
   ],
   "source": [
    "w1='this'\n",
    "w2='is'\n",
    "w3='amazing'\n",
    "word=w1+' '+w2+' '+w3\n",
    "print(word)"
   ]
  },
  {
   "cell_type": "markdown",
   "metadata": {},
   "source": [
    "* DUPLICATION IN STRINGS"
   ]
  },
  {
   "cell_type": "code",
   "execution_count": 5,
   "metadata": {},
   "outputs": [
    {
     "name": "stdout",
     "output_type": "stream",
     "text": [
      "HiHiHi\n",
      "-------------------------\n"
     ]
    }
   ],
   "source": [
    "word='Hi'\n",
    "print(word *3)\n",
    "print('-' *25)"
   ]
  },
  {
   "cell_type": "code",
   "execution_count": 9,
   "metadata": {},
   "outputs": [
    {
     "name": "stdout",
     "output_type": "stream",
     "text": [
      " * \n",
      " *  * \n",
      " *  *  * \n",
      " *  *  *  * \n",
      " *  *  *  *  * \n"
     ]
    }
   ],
   "source": [
    "for i in range(1,6):\n",
    "    print(i * ' * ')"
   ]
  },
  {
   "cell_type": "code",
   "execution_count": 11,
   "metadata": {},
   "outputs": [
    {
     "name": "stdout",
     "output_type": "stream",
     "text": [
      " 💀  💀  💀  💀  💀  💀 \n",
      " 💀  💀  💀  💀  💀 \n",
      " 💀  💀  💀  💀 \n",
      " 💀  💀  💀 \n",
      " 💀  💀 \n",
      " 💀 \n"
     ]
    }
   ],
   "source": [
    "for i in range(6,0,-1):\n",
    "    print(i * ' 💀 ')"
   ]
  },
  {
   "cell_type": "code",
   "execution_count": 12,
   "metadata": {},
   "outputs": [],
   "source": [
    "name='Alex Manson'\n",
    "age=50\n",
    "item=['apple','Banana','orange']"
   ]
  },
  {
   "cell_type": "code",
   "execution_count": 13,
   "metadata": {},
   "outputs": [
    {
     "data": {
      "text/plain": [
       "True"
      ]
     },
     "execution_count": 13,
     "metadata": {},
     "output_type": "execute_result"
    }
   ],
   "source": [
    "name.endswith('Manson')"
   ]
  },
  {
   "cell_type": "markdown",
   "metadata": {},
   "source": [
    "* Formatting function"
   ]
  },
  {
   "cell_type": "code",
   "execution_count": 17,
   "metadata": {},
   "outputs": [],
   "source": [
    "msg='this Is A messAge FrOm VERY ImporTANT person'"
   ]
  },
  {
   "cell_type": "code",
   "execution_count": 18,
   "metadata": {},
   "outputs": [
    {
     "name": "stdout",
     "output_type": "stream",
     "text": [
      "THIS IS A MESSAGE FROM VERY IMPORTANT PERSON\n",
      "this is a message from very important person\n",
      "This Is A Message From Very Important Person\n",
      "This is a message from very important person\n",
      "this is a message from very important person\n",
      "THIS iS a MESSaGE fRoM very iMPORtant PERSON\n",
      "this Is A messAge FrOm VERY ImporTANT person\n"
     ]
    }
   ],
   "source": [
    "print(msg.upper())\n",
    "print(msg.lower())\n",
    "print(msg.title())\n",
    "print(msg.capitalize())\n",
    "print(msg.casefold())\n",
    "print(msg.swapcase())\n",
    "print(msg)\n",
    "\n",
    "\n",
    "\n",
    "\n",
    "\n"
   ]
  },
  {
   "cell_type": "code",
   "execution_count": 24,
   "metadata": {},
   "outputs": [],
   "source": [
    "long_msg='''Before downloading, please take a moment to review the Hardware and Software requirements section of the User Handbook.\n",
    "Select one of the packages below and follow the download instructions.\n",
    "Once a Jenkins package has been downloaded, proceed to the Installing Jenkins section of the User Handbook.\n",
    "You may also want to verify the package you downloaded. Learn more about verifying Jenkins downloads.\n",
    "'''"
   ]
  },
  {
   "cell_type": "code",
   "execution_count": 2,
   "metadata": {},
   "outputs": [
    {
     "data": {
      "text/plain": [
       "7"
      ]
     },
     "execution_count": 2,
     "metadata": {},
     "output_type": "execute_result"
    }
   ],
   "source": [
    "long_msg.count('the')"
   ]
  },
  {
   "cell_type": "markdown",
   "metadata": {},
   "source": [
    "*WAP TO FIND ALL INDEXES OF ALL VOWELS*"
   ]
  },
  {
   "cell_type": "code",
   "execution_count": 6,
   "metadata": {},
   "outputs": [
    {
     "name": "stdout",
     "output_type": "stream",
     "text": [
      "vowel a : 13\n",
      "vowel a : 23\n",
      "vowel a : 28\n",
      "vowel a : 32\n",
      "vowel a : 56\n",
      "vowel a : 60\n",
      "vowel a : 64\n",
      "vowel a : 73\n",
      "vowel a : 111\n",
      "vowel a : 139\n",
      "vowel a : 142\n",
      "vowel a : 153\n",
      "vowel a : 174\n",
      "vowel a : 196\n",
      "vowel a : 207\n",
      "vowel a : 210\n",
      "vowel a : 215\n",
      "vowel a : 229\n",
      "vowel a : 254\n",
      "vowel a : 290\n",
      "vowel a : 304\n",
      "vowel a : 307\n",
      "vowel a : 313\n",
      "vowel a : 332\n",
      "vowel a : 335\n",
      "vowel a : 349\n",
      "vowel a : 357\n",
      "vowel a : 366\n",
      "vowel a : 396\n",
      "vowel e : 1\n",
      "vowel e : 5\n",
      "vowel e : 22\n",
      "vowel e : 25\n",
      "vowel e : 30\n",
      "vowel e : 37\n",
      "vowel e : 45\n",
      "vowel e : 48\n",
      "vowel e : 53\n",
      "vowel e : 62\n",
      "vowel e : 75\n",
      "vowel e : 78\n",
      "vowel e : 83\n",
      "vowel e : 85\n",
      "vowel e : 91\n",
      "vowel e : 103\n",
      "vowel e : 107\n",
      "vowel e : 121\n",
      "vowel e : 123\n",
      "vowel e : 129\n",
      "vowel e : 136\n",
      "vowel e : 144\n",
      "vowel e : 148\n",
      "vowel e : 166\n",
      "vowel e : 194\n",
      "vowel e : 199\n",
      "vowel e : 212\n",
      "vowel e : 219\n",
      "vowel e : 220\n",
      "vowel e : 231\n",
      "vowel e : 239\n",
      "vowel e : 240\n",
      "vowel e : 248\n",
      "vowel e : 262\n",
      "vowel e : 270\n",
      "vowel e : 282\n",
      "vowel e : 286\n",
      "vowel e : 321\n",
      "vowel e : 329\n",
      "vowel e : 337\n",
      "vowel e : 351\n",
      "vowel e : 356\n",
      "vowel e : 364\n",
      "vowel e : 373\n",
      "vowel e : 383\n",
      "vowel i : 15\n",
      "vowel i : 47\n",
      "vowel i : 81\n",
      "vowel i : 94\n",
      "vowel i : 177\n",
      "vowel i : 185\n",
      "vowel i : 202\n",
      "vowel i : 257\n",
      "vowel i : 265\n",
      "vowel i : 273\n",
      "vowel i : 323\n",
      "vowel i : 375\n",
      "vowel i : 378\n",
      "vowel i : 386\n",
      "vowel o : 3\n",
      "vowel o : 8\n",
      "vowel o : 12\n",
      "vowel o : 35\n",
      "vowel o : 42\n",
      "vowel o : 69\n",
      "vowel o : 95\n",
      "vowel o : 98\n",
      "vowel o : 115\n",
      "vowel o : 116\n",
      "vowel o : 127\n",
      "vowel o : 131\n",
      "vowel o : 150\n",
      "vowel o : 158\n",
      "vowel o : 161\n",
      "vowel o : 169\n",
      "vowel o : 173\n",
      "vowel o : 186\n",
      "vowel o : 224\n",
      "vowel o : 228\n",
      "vowel o : 237\n",
      "vowel o : 244\n",
      "vowel o : 274\n",
      "vowel o : 277\n",
      "vowel o : 294\n",
      "vowel o : 295\n",
      "vowel o : 300\n",
      "vowel o : 310\n",
      "vowel o : 318\n",
      "vowel o : 340\n",
      "vowel o : 344\n",
      "vowel o : 348\n",
      "vowel o : 362\n",
      "vowel o : 368\n",
      "vowel o : 391\n",
      "vowel o : 395\n",
      "vowel u : 80\n",
      "vowel u : 182\n",
      "vowel u : 301\n",
      "vowel u : 341\n",
      "vowel u : 369\n"
     ]
    }
   ],
   "source": [
    "for vowel in \"aeiou\":\n",
    "    start=0\n",
    "    while True:\n",
    "        pos=long_msg.find(vowel,start)\n",
    "        start=pos+1\n",
    "        if pos==-1:\n",
    "           break\n",
    "        print(f\"vowel {vowel} : {pos}\")\n"
   ]
  },
  {
   "cell_type": "code",
   "execution_count": 11,
   "metadata": {},
   "outputs": [
    {
     "name": "stdout",
     "output_type": "stream",
     "text": [
      "Paiker\n",
      "numeric: False\n",
      "alphabet: True\n",
      "alphanumeric: True\n",
      "only spaces: False\n",
      "only uppercase: False\n",
      "only lowercase: False\n",
      "capatalized: True\n",
      "Decimal numbers: False\n"
     ]
    }
   ],
   "source": [
    "msg=input('Enter a message')\n",
    "print(msg)\n",
    "print(\"numeric:\", msg.isnumeric())\n",
    "print(\"alphabet:\", msg.isalpha())\n",
    "print(\"alphanumeric:\", msg.isalnum())\n",
    "print(\"only spaces:\", msg.isspace())\n",
    "print(\"only uppercase:\", msg.isupper())\n",
    "print(\"only lowercase:\", msg.islower())\n",
    "print(\"capatalized:\", msg.istitle())\n",
    "print(\"Decimal numbers:\", msg.isdecimal())"
   ]
  },
  {
   "cell_type": "markdown",
   "metadata": {},
   "source": [
    "*COUNT NUMBER OF VOWELS IN STRING*"
   ]
  },
  {
   "cell_type": "code",
   "execution_count": 13,
   "metadata": {},
   "outputs": [
    {
     "name": "stdout",
     "output_type": "stream",
     "text": [
      "a : 29\n",
      "e : 45\n",
      "i : 14\n",
      "o : 36\n",
      "u : 5\n"
     ]
    }
   ],
   "source": [
    "vowels='aeiou'\n",
    "for v in vowels:\n",
    "    c=long_msg.count(v)\n",
    "    print(f\"{v} : {c}\")\n",
    "\n",
    "\n"
   ]
  },
  {
   "cell_type": "markdown",
   "metadata": {},
   "source": [
    "*REMOVE VOWELS FROM STRING*"
   ]
  },
  {
   "cell_type": "code",
   "execution_count": 22,
   "metadata": {},
   "outputs": [
    {
     "name": "stdout",
     "output_type": "stream",
     "text": [
      "Bfr dwnldng, pls tk  mmnt t rvw th Hrdwr nd Sftwr rqrmnts sctn f th sr Hndbk.\n",
      "Slct n f th pckgs blw nd fllw th dwnld nstrctns.\n",
      "nc  Jnkns pckg hs bn dwnldd, prcd t th nstllng Jnkns sctn f th sr Hndbk.\n",
      "Y my ls wnt t vrfy th pckg y dwnldd. Lrn mr bt vrfyng Jnkns dwnlds.\n",
      "\n"
     ]
    }
   ],
   "source": [
    "msg=long_msg\n",
    "vowels='aeiouAEIOU'\n",
    "for v in vowels:\n",
    "    msg=long_msg.replace(v,'')\n",
    "print(msg)\n",
    "\n",
    "\n"
   ]
  },
  {
   "cell_type": "markdown",
   "metadata": {},
   "source": [
    "*n WORD SLICE*"
   ]
  },
  {
   "cell_type": "code",
   "execution_count": 26,
   "metadata": {},
   "outputs": [
    {
     "name": "stdout",
     "output_type": "stream",
     "text": [
      "['Before', 'downloading,', 'please', 'take', 'a', 'moment', 'to', 'review', 'the', 'Hardware', 'and', 'Software', 'requirements', 'section', 'of', 'the', 'User', 'Handbook.', 'Select', 'one', 'of', 'the', 'packages', 'below', 'and', 'follow', 'the', 'download', 'instructions.', 'Once', 'a', 'Jenkins', 'package', 'has', 'been', 'downloaded,', 'proceed', 'to', 'the', 'Installing', 'Jenkins', 'section', 'of', 'the', 'User', 'Handbook.', 'You', 'may', 'also', 'want']\n"
     ]
    }
   ],
   "source": [
    "word_count=int(input('how many words'))\n",
    "words=long_msg.split()[:word_count]\n",
    "print(words)"
   ]
  },
  {
   "cell_type": "code",
   "execution_count": 32,
   "metadata": {},
   "outputs": [
    {
     "name": "stdout",
     "output_type": "stream",
     "text": [
      "6\n",
      "12\n",
      "6\n",
      "4\n",
      "1\n",
      "6\n",
      "2\n",
      "6\n",
      "3\n",
      "8\n",
      "3\n",
      "8\n",
      "12\n",
      "7\n",
      "2\n",
      "3\n",
      "4\n",
      "9\n",
      "6\n",
      "3\n",
      "2\n",
      "3\n",
      "8\n",
      "5\n",
      "3\n",
      "6\n",
      "3\n",
      "8\n",
      "13\n",
      "4\n",
      "1\n",
      "7\n",
      "7\n",
      "3\n",
      "4\n",
      "11\n",
      "7\n",
      "2\n",
      "3\n",
      "10\n",
      "7\n",
      "7\n",
      "2\n",
      "3\n",
      "4\n",
      "9\n",
      "3\n",
      "3\n",
      "4\n",
      "4\n",
      "2\n",
      "6\n",
      "3\n",
      "7\n",
      "3\n",
      "11\n",
      "5\n",
      "4\n",
      "5\n",
      "9\n",
      "7\n",
      "10\n",
      "biggest word is ['Before', 'downloading,', 'please', 'take', 'a', 'moment', 'to', 'review', 'the', 'Hardware', 'and', 'Software', 'requirements', 'section', 'of', 'the', 'User', 'Handbook.', 'Select', 'one', 'of', 'the', 'packages', 'below', 'and', 'follow', 'the', 'download', 'instructions.', 'Once', 'a', 'Jenkins', 'package', 'has', 'been', 'downloaded,', 'proceed', 'to', 'the', 'Installing', 'Jenkins', 'section', 'of', 'the', 'User', 'Handbook.', 'You', 'may', 'also', 'want', 'to', 'verify', 'the', 'package', 'you', 'downloaded.', 'Learn', 'more', 'about', 'verifying', 'Jenkins', 'downloads.'] with 13 characters\n"
     ]
    }
   ],
   "source": [
    "\n",
    "m=0\n",
    "w=0\n",
    "words=long_msg.split()\n",
    "l=len(words)\n",
    "for i in range(l):\n",
    "    l1=len(words[i])\n",
    "    print(l1)\n",
    "    if l1>m:\n",
    "        m=l1\n",
    "        w=words\n",
    "print(f\"biggest word is {w} with {m} characters\")        "
   ]
  },
  {
   "cell_type": "code",
   "execution_count": null,
   "metadata": {},
   "outputs": [],
   "source": []
  }
 ],
 "metadata": {
  "kernelspec": {
   "display_name": "Python 3.9.12 ('base')",
   "language": "python",
   "name": "python3"
  },
  "language_info": {
   "codemirror_mode": {
    "name": "ipython",
    "version": 3
   },
   "file_extension": ".py",
   "mimetype": "text/x-python",
   "name": "python",
   "nbconvert_exporter": "python",
   "pygments_lexer": "ipython3",
   "version": "3.9.12"
  },
  "orig_nbformat": 4,
  "vscode": {
   "interpreter": {
    "hash": "c2a45b14d845e25b6e1ccfe89678e79c672e8c1e8e7566573eec535183b18a0e"
   }
  }
 },
 "nbformat": 4,
 "nbformat_minor": 2
}
