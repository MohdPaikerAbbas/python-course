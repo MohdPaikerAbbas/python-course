{
 "cells": [
  {
   "cell_type": "code",
   "execution_count": 2,
   "metadata": {},
   "outputs": [
    {
     "name": "stdout",
     "output_type": "stream",
     "text": [
      "I am outside a function\n"
     ]
    }
   ],
   "source": [
    "def hello():\n",
    "    print(\"This is a function\")\n",
    "    print(\"This is not a good function\")\n",
    "    print(\"Bye\")\n",
    "\n",
    "print(\"I am outside a function\")"
   ]
  },
  {
   "cell_type": "code",
   "execution_count": 3,
   "metadata": {},
   "outputs": [
    {
     "name": "stdout",
     "output_type": "stream",
     "text": [
      "This is a function\n",
      "This is not a good function\n",
      "Bye\n"
     ]
    }
   ],
   "source": [
    "hello()"
   ]
  },
  {
   "cell_type": "code",
   "execution_count": 4,
   "metadata": {},
   "outputs": [
    {
     "name": "stdout",
     "output_type": "stream",
     "text": [
      "This is a function\n",
      "This is not a good function\n",
      "Bye\n",
      "This is a function\n",
      "This is not a good function\n",
      "Bye\n",
      "This is a function\n",
      "This is not a good function\n",
      "Bye\n"
     ]
    }
   ],
   "source": [
    "for i in range(3):\n",
    "    hello()"
   ]
  },
  {
   "cell_type": "code",
   "execution_count": 5,
   "metadata": {},
   "outputs": [],
   "source": [
    "def area(length,breadth):\n",
    "    ans=length*breadth\n",
    "    return ans\n"
   ]
  },
  {
   "cell_type": "code",
   "execution_count": 12,
   "metadata": {},
   "outputs": [
    {
     "data": {
      "text/plain": [
       "15"
      ]
     },
     "execution_count": 12,
     "metadata": {},
     "output_type": "execute_result"
    }
   ],
   "source": [
    "area(5,3)"
   ]
  },
  {
   "cell_type": "code",
   "execution_count": 13,
   "metadata": {},
   "outputs": [
    {
     "name": "stdout",
     "output_type": "stream",
     "text": [
      "The area is :  15\n"
     ]
    }
   ],
   "source": [
    "print(\"The area is : \",area(5,3))"
   ]
  },
  {
   "cell_type": "code",
   "execution_count": 15,
   "metadata": {},
   "outputs": [
    {
     "name": "stdout",
     "output_type": "stream",
     "text": [
      "20 15\n"
     ]
    }
   ],
   "source": [
    "a=area(5,4)\n",
    "b=area(3,5)\n",
    "print(a,b)"
   ]
  },
  {
   "cell_type": "code",
   "execution_count": 18,
   "metadata": {},
   "outputs": [],
   "source": [
    "def fib(start:int,size:int):\n",
    "    '''\n",
    "    this is a fibnocci function\n",
    "    -start: pass a number for the start of fibnocci series\n",
    "    -size:size of fibnocci series\n",
    "    -return list of fibnocci series\n",
    "     \n",
    "    '''\n",
    "    out=[start,start+1]\n",
    "    for i in range(size-2):\n",
    "        out.append(out[-1]+out[-2])\n",
    "    return out    \n"
   ]
  },
  {
   "cell_type": "code",
   "execution_count": 22,
   "metadata": {},
   "outputs": [
    {
     "name": "stdout",
     "output_type": "stream",
     "text": [
      "[3, 4, 7, 11, 18, 29, 47, 76, 123, 199, 322, 521, 843, 1364, 2207, 3571, 5778, 9349, 15127, 24476, 39603, 64079, 103682, 167761, 271443]\n"
     ]
    }
   ],
   "source": [
    "print(fib(3,25))"
   ]
  },
  {
   "cell_type": "code",
   "execution_count": 25,
   "metadata": {},
   "outputs": [],
   "source": [
    "# create a function to calculate SI and amount \n",
    "def calc(p,r,t):\n",
    "    SI=(p*r*t)/100\n",
    "    Amt=p+SI\n",
    "    return SI,Amt\n"
   ]
  },
  {
   "cell_type": "markdown",
   "metadata": {},
   "source": [
    "calc(100,2.5,2)"
   ]
  },
  {
   "cell_type": "code",
   "execution_count": 1,
   "metadata": {},
   "outputs": [],
   "source": [
    "import utils"
   ]
  },
  {
   "cell_type": "code",
   "execution_count": 4,
   "metadata": {},
   "outputs": [
    {
     "data": {
      "text/plain": [
       "{'of': 3,\n",
       " 'fibnocci': 4,\n",
       " 'series-size:size': 1,\n",
       " 'a': 5,\n",
       " 'for': 1,\n",
       " 'function': 1,\n",
       " 'is': 3,\n",
       " 'the': 1,\n",
       " 'number': 1,\n",
       " 'start': 2,\n",
       " 'series-return': 1,\n",
       " '-start:': 1,\n",
       " 'list': 1,\n",
       " 'this': 1,\n",
       " 'series': 3,\n",
       " 'pass': 1}"
      ]
     },
     "execution_count": 4,
     "metadata": {},
     "output_type": "execute_result"
    }
   ],
   "source": [
    "s=\" this is a fibnocci function -start: pass a number for the start of fibnocci series-size:size of fibnocci series-return list of fibnocci series \"\n",
    "utils.word_count(s)"
   ]
  },
  {
   "cell_type": "code",
   "execution_count": 5,
   "metadata": {},
   "outputs": [
    {
     "data": {
      "text/plain": [
       "{'t': 9,\n",
       " 'z': 2,\n",
       " 'c': 9,\n",
       " 'm': 1,\n",
       " '-': 3,\n",
       " 'l': 1,\n",
       " 'u': 3,\n",
       " 'e': 11,\n",
       " 'a': 5,\n",
       " 'o': 9,\n",
       " 'n': 8,\n",
       " 'f': 9,\n",
       " ':': 2,\n",
       " 'r': 9,\n",
       " 'h': 2,\n",
       " ' ': 23,\n",
       " 's': 15,\n",
       " 'b': 5,\n",
       " 'p': 1,\n",
       " 'i': 17}"
      ]
     },
     "execution_count": 5,
     "metadata": {},
     "output_type": "execute_result"
    }
   ],
   "source": [
    "s=\" this is a fibnocci function -start: pass a number for the start of fibnocci series-size:size of fibnocci series-return list of fibnocci series \"\n",
    "utils.char_count(s)"
   ]
  },
  {
   "cell_type": "code",
   "execution_count": null,
   "metadata": {},
   "outputs": [],
   "source": []
  }
 ],
 "metadata": {
  "kernelspec": {
   "display_name": "Python 3.9.12 ('base')",
   "language": "python",
   "name": "python3"
  },
  "language_info": {
   "codemirror_mode": {
    "name": "ipython",
    "version": 3
   },
   "file_extension": ".py",
   "mimetype": "text/x-python",
   "name": "python",
   "nbconvert_exporter": "python",
   "pygments_lexer": "ipython3",
   "version": "3.9.12"
  },
  "orig_nbformat": 4,
  "vscode": {
   "interpreter": {
    "hash": "c2a45b14d845e25b6e1ccfe89678e79c672e8c1e8e7566573eec535183b18a0e"
   }
  }
 },
 "nbformat": 4,
 "nbformat_minor": 2
}
