{
 "cells": [
  {
   "cell_type": "code",
   "execution_count": 1,
   "metadata": {},
   "outputs": [],
   "source": [
    "import numpy as np"
   ]
  },
  {
   "cell_type": "code",
   "execution_count": 3,
   "metadata": {},
   "outputs": [
    {
     "name": "stdout",
     "output_type": "stream",
     "text": [
      "[1 2 3 4 5]\n",
      "<class 'numpy.ndarray'>\n"
     ]
    }
   ],
   "source": [
    "# creation of numpy array\n",
    "x=np.array([1,2,3,4,5])\n",
    "print(x)\n",
    "print(type(x))"
   ]
  },
  {
   "cell_type": "code",
   "execution_count": 4,
   "metadata": {},
   "outputs": [
    {
     "name": "stdout",
     "output_type": "stream",
     "text": [
      "5\n",
      "(5,)\n"
     ]
    }
   ],
   "source": [
    "# shape and size\n",
    "print(x.size)\n",
    "print(x.shape)"
   ]
  },
  {
   "cell_type": "code",
   "execution_count": 6,
   "metadata": {},
   "outputs": [
    {
     "name": "stdout",
     "output_type": "stream",
     "text": [
      "[[1 2 3]\n",
      " [4 5 6]]\n",
      "6\n",
      "(2, 3)\n"
     ]
    }
   ],
   "source": [
    "x2d=np.array([[1,2,3],[4,5,6]])\n",
    "print(x2d)\n",
    "print(x2d.size)\n",
    "print(x2d.shape)"
   ]
  },
  {
   "cell_type": "code",
   "execution_count": 8,
   "metadata": {},
   "outputs": [
    {
     "name": "stdout",
     "output_type": "stream",
     "text": [
      "[[31 94 74  3 18]\n",
      " [43 33 68 67 89]\n",
      " [32 43 74  1 75]\n",
      " [56 75 28  2 91]\n",
      " [14 26 77 64 88]]\n"
     ]
    }
   ],
   "source": [
    "x25=np.random.randint(1,100,(5,5))\n",
    "print(x25)"
   ]
  },
  {
   "cell_type": "code",
   "execution_count": 13,
   "metadata": {},
   "outputs": [
    {
     "name": "stdout",
     "output_type": "stream",
     "text": [
      "[ 1  5  9 13 17 21 25 29 33 37 41 45 49 53 57 61 65 69 73 77 81 85 89 93\n",
      " 97]\n",
      "25\n",
      "[[ 1  5  9 13 17]\n",
      " [21 25 29 33 37]\n",
      " [41 45 49 53 57]\n",
      " [61 65 69 73 77]\n",
      " [81 85 89 93 97]]\n"
     ]
    }
   ],
   "source": [
    "xseq1=np.arange(1,101,4)\n",
    "print(xseq1)\n",
    "print(xseq1.size)\n",
    "print(xseq1.reshape(5,5))"
   ]
  },
  {
   "cell_type": "code",
   "execution_count": 16,
   "metadata": {},
   "outputs": [
    {
     "name": "stdout",
     "output_type": "stream",
     "text": [
      "[  1.           3.02040816   5.04081633   7.06122449   9.08163265\n",
      "  11.10204082  13.12244898  15.14285714  17.16326531  19.18367347\n",
      "  21.20408163  23.2244898   25.24489796  27.26530612  29.28571429\n",
      "  31.30612245  33.32653061  35.34693878  37.36734694  39.3877551\n",
      "  41.40816327  43.42857143  45.44897959  47.46938776  49.48979592\n",
      "  51.51020408  53.53061224  55.55102041  57.57142857  59.59183673\n",
      "  61.6122449   63.63265306  65.65306122  67.67346939  69.69387755\n",
      "  71.71428571  73.73469388  75.75510204  77.7755102   79.79591837\n",
      "  81.81632653  83.83673469  85.85714286  87.87755102  89.89795918\n",
      "  91.91836735  93.93877551  95.95918367  97.97959184 100.        ]\n",
      "50\n",
      "[[  1.           3.02040816   5.04081633   7.06122449   9.08163265]\n",
      " [ 11.10204082  13.12244898  15.14285714  17.16326531  19.18367347]\n",
      " [ 21.20408163  23.2244898   25.24489796  27.26530612  29.28571429]\n",
      " [ 31.30612245  33.32653061  35.34693878  37.36734694  39.3877551 ]\n",
      " [ 41.40816327  43.42857143  45.44897959  47.46938776  49.48979592]\n",
      " [ 51.51020408  53.53061224  55.55102041  57.57142857  59.59183673]\n",
      " [ 61.6122449   63.63265306  65.65306122  67.67346939  69.69387755]\n",
      " [ 71.71428571  73.73469388  75.75510204  77.7755102   79.79591837]\n",
      " [ 81.81632653  83.83673469  85.85714286  87.87755102  89.89795918]\n",
      " [ 91.91836735  93.93877551  95.95918367  97.97959184 100.        ]]\n"
     ]
    }
   ],
   "source": [
    "xseq2=np.linspace(1,100,50)\n",
    "print(xseq2)\n",
    "print(xseq2.size)\n",
    "print(xseq2.reshape(10,5))"
   ]
  },
  {
   "cell_type": "code",
   "execution_count": 17,
   "metadata": {},
   "outputs": [
    {
     "name": "stdout",
     "output_type": "stream",
     "text": [
      "[31 94 74  3 18]\n"
     ]
    }
   ],
   "source": [
    "print(x25[0])"
   ]
  },
  {
   "cell_type": "code",
   "execution_count": 19,
   "metadata": {},
   "outputs": [
    {
     "name": "stdout",
     "output_type": "stream",
     "text": [
      "[14 26 77 64 88]\n"
     ]
    }
   ],
   "source": [
    "print(x25[-1])\n"
   ]
  },
  {
   "cell_type": "code",
   "execution_count": 20,
   "metadata": {},
   "outputs": [
    {
     "name": "stdout",
     "output_type": "stream",
     "text": [
      "94\n"
     ]
    }
   ],
   "source": [
    "print(x25[0,1])"
   ]
  },
  {
   "cell_type": "code",
   "execution_count": 21,
   "metadata": {},
   "outputs": [
    {
     "name": "stdout",
     "output_type": "stream",
     "text": [
      "[94 33 43 75 26]\n"
     ]
    }
   ],
   "source": [
    "print(x25[:,1])\n"
   ]
  },
  {
   "cell_type": "code",
   "execution_count": 22,
   "metadata": {},
   "outputs": [
    {
     "name": "stdout",
     "output_type": "stream",
     "text": [
      "[31 43 32 56 14]\n",
      "[18 89 75 91 88]\n"
     ]
    }
   ],
   "source": [
    "print(x25[:,0])\n",
    "print(x25[:,-1])\n"
   ]
  },
  {
   "cell_type": "code",
   "execution_count": 23,
   "metadata": {},
   "outputs": [
    {
     "data": {
      "text/plain": [
       "array([31, 94, 74,  3, 18, 43, 33, 68, 67, 89, 32, 43, 74,  1, 75, 56, 75,\n",
       "       28,  2, 91, 14, 26, 77, 64, 88,  1,  2,  3,  4,  5])"
      ]
     },
     "execution_count": 23,
     "metadata": {},
     "output_type": "execute_result"
    }
   ],
   "source": [
    "np.append(x25,[1,2,3,4,5])"
   ]
  },
  {
   "cell_type": "code",
   "execution_count": 28,
   "metadata": {},
   "outputs": [
    {
     "data": {
      "text/plain": [
       "array([[31, 94, 74,  3, 18],\n",
       "       [43, 33, 68, 67, 89],\n",
       "       [32, 43, 74,  1, 75],\n",
       "       [56, 75, 28,  2, 91],\n",
       "       [14, 26, 77, 64, 88],\n",
       "       [ 1,  2,  3,  4,  5]])"
      ]
     },
     "execution_count": 28,
     "metadata": {},
     "output_type": "execute_result"
    }
   ],
   "source": [
    "np.append(x25,np.array([[1,2,3,4,5]]), axis=0)\n"
   ]
  },
  {
   "cell_type": "code",
   "execution_count": 33,
   "metadata": {},
   "outputs": [
    {
     "name": "stdout",
     "output_type": "stream",
     "text": [
      "(2, 3)\n",
      "(3, 2)\n"
     ]
    }
   ],
   "source": [
    "a=np.array([[1,2,3],[4,5,6]])\n",
    "b=np.array([[1,2],[3,4],[4,5]])\n",
    "print(a.shape)\n",
    "print(b.shape)"
   ]
  },
  {
   "cell_type": "code",
   "execution_count": 34,
   "metadata": {},
   "outputs": [
    {
     "data": {
      "text/plain": [
       "array([[1, 4],\n",
       "       [2, 5],\n",
       "       [3, 6]])"
      ]
     },
     "execution_count": 34,
     "metadata": {},
     "output_type": "execute_result"
    }
   ],
   "source": [
    "a.T"
   ]
  },
  {
   "cell_type": "code",
   "execution_count": 37,
   "metadata": {},
   "outputs": [
    {
     "data": {
      "text/plain": [
       "array([[1, 4, 1, 2],\n",
       "       [2, 5, 3, 4],\n",
       "       [3, 6, 4, 5]])"
      ]
     },
     "execution_count": 37,
     "metadata": {},
     "output_type": "execute_result"
    }
   ],
   "source": [
    "np.hstack((a.T,b))"
   ]
  },
  {
   "cell_type": "code",
   "execution_count": null,
   "metadata": {},
   "outputs": [],
   "source": []
  }
 ],
 "metadata": {
  "kernelspec": {
   "display_name": "Python 3.9.12 ('base')",
   "language": "python",
   "name": "python3"
  },
  "language_info": {
   "codemirror_mode": {
    "name": "ipython",
    "version": 3
   },
   "file_extension": ".py",
   "mimetype": "text/x-python",
   "name": "python",
   "nbconvert_exporter": "python",
   "pygments_lexer": "ipython3",
   "version": "3.9.12"
  },
  "orig_nbformat": 4,
  "vscode": {
   "interpreter": {
    "hash": "c2a45b14d845e25b6e1ccfe89678e79c672e8c1e8e7566573eec535183b18a0e"
   }
  }
 },
 "nbformat": 4,
 "nbformat_minor": 2
}
