{
 "cells": [
  {
   "cell_type": "code",
   "execution_count": 1,
   "metadata": {},
   "outputs": [],
   "source": [
    "import requests\n",
    "from bs4 import BeautifulSoup\n"
   ]
  },
  {
   "cell_type": "code",
   "execution_count": 2,
   "metadata": {},
   "outputs": [],
   "source": [
    "def get_soup(url):\n",
    "    page=requests.get(url)\n",
    "    return BeautifulSoup(page.text)\n"
   ]
  },
  {
   "cell_type": "code",
   "execution_count": 3,
   "metadata": {},
   "outputs": [],
   "source": [
    "soup=get_soup('https://www.ndtv.com/latest')\n"
   ]
  },
  {
   "cell_type": "code",
   "execution_count": 4,
   "metadata": {},
   "outputs": [],
   "source": [
    "target=soup.find('div',attrs={'class':'lisingNews'})\n"
   ]
  },
  {
   "cell_type": "code",
   "execution_count": 5,
   "metadata": {},
   "outputs": [
    {
     "name": "stdout",
     "output_type": "stream",
     "text": [
      "17\n"
     ]
    }
   ],
   "source": [
    "newslist=target.find_all('div',attrs={'class':'news_Itm'})\n",
    "print(len(newslist))\n"
   ]
  },
  {
   "cell_type": "code",
   "execution_count": 6,
   "metadata": {},
   "outputs": [
    {
     "name": "stdout",
     "output_type": "stream",
     "text": [
      "Nawabi Kababi Offers A Slice Of Old Delhi Through Its Lip-Smacking Kebabs\n",
      "12 Kg Gold Worth Rs 5.38 Crore Seized At Mumbai Airport\n",
      "Video: Doctor, Son Say Beaten For Delay In Opening Clinic Door\n",
      "In AAP vs Delhi Lt Governor, Probe Into Purchase Of Buses New Flashpoint\n",
      "Viral: Kartik Aaryan And Sara Ali Khan Spotted Chatting At Award Show\n",
      "7 Of Top 10 Most Valued Firms' Market Value Reaches Rs 1.33 Lakh Crore\n",
      "India Women vs England Women: \"We Forcefully Played,\" Says Harmanpreet Kaur After Defeat In 1st T20I\n",
      "Fake Invoice Racket Worth Rs 132 Crore Busted In Mumbai, 1 Arrested\n",
      "Video: Muffled Church Bells Toll For The First Time In 70 Years Across UK In Tribute To Queen Elizabeth\n",
      "JEE Advanced 2022 Result Out; R K Shishir Secures Rank 1, Tanishka Kabra Is Female Topper\n",
      "What England Pacer Ollie Robinson Said About Singing New UK National Anthem\n",
      "Golden Time To Invest In India, Piyush Goyal To Business Community In US\n",
      "3 Dead, 2 Injured In Rajasthan Car-Truck Collision: Police\n",
      "JEE Advanced Result 2022 Out; Direct Link, Websites To Check\n",
      "Yogi Adityanath Suspends 15 Officials Over Lucknow Fire\n"
     ]
    }
   ],
   "source": [
    "for news in newslist:\n",
    "    title=news.find('h2',attrs={'class':'newsHdng'})\n",
    "    if title:\n",
    "        print(title.text)"
   ]
  },
  {
   "cell_type": "code",
   "execution_count": 7,
   "metadata": {},
   "outputs": [],
   "source": [
    "data=[]\n",
    "for news in newslist:\n",
    "    title=news.find('h2',attrs={'class':'newsHdng'})\n",
    "    details=news.find('span',attrs={'class':'posted-by'})\n",
    "    content=news.find('p',attrs={'class':'newsCont'})\n",
    "    if title and details and content:\n",
    "        #print('--> HEADLINES','--'*40)\n",
    "        #print(title.text)\n",
    "        #print(content.text.strip())\n",
    "        #print(details.text.strip())\n",
    "        data.append({\n",
    "            'title':title.text.strip(),\n",
    "            'details': details.text.strip(),\n",
    "            'content':content.text.strip()\n",
    "        })"
   ]
  },
  {
   "cell_type": "code",
   "execution_count": 8,
   "metadata": {},
   "outputs": [],
   "source": [
    "import pandas as pd"
   ]
  },
  {
   "cell_type": "code",
   "execution_count": null,
   "metadata": {},
   "outputs": [],
   "source": []
  }
 ],
 "metadata": {
  "kernelspec": {
   "display_name": "Python 3.9.12 ('base')",
   "language": "python",
   "name": "python3"
  },
  "language_info": {
   "codemirror_mode": {
    "name": "ipython",
    "version": 3
   },
   "file_extension": ".py",
   "mimetype": "text/x-python",
   "name": "python",
   "nbconvert_exporter": "python",
   "pygments_lexer": "ipython3",
   "version": "3.9.12"
  },
  "orig_nbformat": 4,
  "vscode": {
   "interpreter": {
    "hash": "c2a45b14d845e25b6e1ccfe89678e79c672e8c1e8e7566573eec535183b18a0e"
   }
  }
 },
 "nbformat": 4,
 "nbformat_minor": 2
}
