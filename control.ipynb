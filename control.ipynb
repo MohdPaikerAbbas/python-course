{
 "cells": [
  {
   "cell_type": "code",
   "execution_count": 2,
   "metadata": {},
   "outputs": [
    {
     "name": "stdout",
     "output_type": "stream",
     "text": [
      "Even\n",
      "End\n"
     ]
    }
   ],
   "source": [
    "x=1356\n",
    "if x%2==0:\n",
    "   print(\"Even\")\n",
    "print(\"End\")   "
   ]
  },
  {
   "cell_type": "code",
   "execution_count": 3,
   "metadata": {},
   "outputs": [
    {
     "name": "stdout",
     "output_type": "stream",
     "text": [
      "Even\n",
      "End\n"
     ]
    }
   ],
   "source": [
    "x=1356\n",
    "if x%2==0:\n",
    "   print(\"Even\")\n",
    "   print(\"End\") #Identation  "
   ]
  },
  {
   "cell_type": "code",
   "execution_count": 11,
   "metadata": {},
   "outputs": [
    {
     "name": "stdout",
     "output_type": "stream",
     "text": [
      "Well done\n"
     ]
    }
   ],
   "source": [
    "num=input(\"Enter a number\")\n",
    "if num.isnumeric():#isnumeric is string function\n",
    "   print(\"Well done\")\n",
    "   num=int(num)\n",
    "else:\n",
    "    print(\"Bad input\")   "
   ]
  },
  {
   "cell_type": "code",
   "execution_count": 5,
   "metadata": {},
   "outputs": [
    {
     "name": "stdout",
     "output_type": "stream",
     "text": [
      "Bad input\n"
     ]
    }
   ],
   "source": [
    "num=input(\"Enter a number\")\n",
    "if num.isnumeric():\n",
    "   print(\"Well done\")\n",
    "   num=int(num)\n",
    "else:\n",
    "    print(\"Bad input\")  "
   ]
  },
  {
   "cell_type": "code",
   "execution_count": 10,
   "metadata": {},
   "outputs": [
    {
     "name": "stdout",
     "output_type": "stream",
     "text": [
      "Bad input\n"
     ]
    }
   ],
   "source": [
    "num=input(\"Enter a number\")\n",
    "if num.isnumeric():\n",
    "   print(\"Well done\")\n",
    "   num=int(num)\n",
    "else:\n",
    "    print(\"Bad input\")   "
   ]
  },
  {
   "cell_type": "code",
   "execution_count": 12,
   "metadata": {},
   "outputs": [
    {
     "name": "stdout",
     "output_type": "stream",
     "text": [
      "python\n"
     ]
    }
   ],
   "source": [
    "username=\"Mohd Paiker Abbas\"\n",
    "email=\"paiker@gmail.com\"\n",
    "password=\"qwerty\"\n",
    "if username==\"Mohd Paiker Abbas\":\n",
    "    if email==\"paiker@gmail.com\":\n",
    "        if password==\"qwerty\":\n",
    "            print(\"python\")\n",
    "        else:\n",
    "            print(\"Wrong password\")\n",
    "    else:\n",
    "        print(\"Wrong email\")\n",
    "else:\n",
    "    print(\"Wrong username\")                    "
   ]
  },
  {
   "cell_type": "code",
   "execution_count": 13,
   "metadata": {},
   "outputs": [
    {
     "name": "stdout",
     "output_type": "stream",
     "text": [
      "Wrong username\n"
     ]
    }
   ],
   "source": [
    "username=input(\"Enter name\")\n",
    "email=input(\"Enter email\")\n",
    "password=input(\"Enter password\")\n",
    "if username==\"Mohd Paiker Abbas\":\n",
    "    if email==\"paiker@gmail.com\":\n",
    "        if password==\"qwerty\":\n",
    "            print(\"python\")\n",
    "        else:\n",
    "            print(\"Wrong password\")\n",
    "    else:\n",
    "        print(\"Wrong email\")\n",
    "else:\n",
    "    print(\"Wrong username\")                    "
   ]
  },
  {
   "cell_type": "code",
   "execution_count": 14,
   "metadata": {},
   "outputs": [
    {
     "name": "stdout",
     "output_type": "stream",
     "text": [
      "Wrong email\n"
     ]
    }
   ],
   "source": [
    "username=input(\"Enter name\")\n",
    "email=input(\"Enter email\")\n",
    "password=input(\"Enter password\")\n",
    "if username==\"Mohd Paiker Abbas\":\n",
    "    if email==\"paiker@gmail.com\":\n",
    "        if password==\"qwerty\":\n",
    "            print(\"python\")\n",
    "        else:\n",
    "            print(\"Wrong password\")\n",
    "    else:\n",
    "        print(\"Wrong email\")\n",
    "else:\n",
    "    print(\"Wrong username\")                    "
   ]
  },
  {
   "cell_type": "code",
   "execution_count": 15,
   "metadata": {},
   "outputs": [
    {
     "name": "stdout",
     "output_type": "stream",
     "text": [
      "Wrong password\n"
     ]
    }
   ],
   "source": [
    "username=input(\"Enter name\")\n",
    "email=input(\"Enter email\")\n",
    "password=input(\"Enter password\")\n",
    "if username==\"Mohd Paiker Abbas\":\n",
    "    if email==\"paiker@gmail.com\":\n",
    "        if password==\"qwerty\":\n",
    "            print(\"python\")\n",
    "        else:\n",
    "            print(\"Wrong password\")\n",
    "    else:\n",
    "        print(\"Wrong email\")\n",
    "else:\n",
    "    print(\"Wrong username\")                    "
   ]
  },
  {
   "cell_type": "code",
   "execution_count": 16,
   "metadata": {},
   "outputs": [
    {
     "name": "stdout",
     "output_type": "stream",
     "text": [
      "python\n"
     ]
    }
   ],
   "source": [
    "username=input(\"Enter name\")\n",
    "email=input(\"Enter email\")\n",
    "password=input(\"Enter password\")\n",
    "if username==\"Mohd Paiker Abbas\":\n",
    "    if email==\"paiker@gmail.com\":\n",
    "        if password==\"qwerty\":\n",
    "            print(\"python\")\n",
    "        else:\n",
    "            print(\"Wrong password\")\n",
    "    else:\n",
    "        print(\"Wrong email\")\n",
    "else:\n",
    "    print(\"Wrong username\")                    "
   ]
  },
  {
   "cell_type": "code",
   "execution_count": 18,
   "metadata": {},
   "outputs": [
    {
     "name": "stdout",
     "output_type": "stream",
     "text": [
      "python\n"
     ]
    }
   ],
   "source": [
    "username=input(\"Enter name\")\n",
    "email=input(\"Enter email\")\n",
    "password=input(\"Enter password\")\n",
    "if username==\"Mohd Paiker Abbas\":\n",
    "    if email==\"paiker@gmail.com\":\n",
    "        if password==\"3545\":\n",
    "            print(\"python\")\n",
    "        else:\n",
    "            print(\"Wrong password\")\n",
    "    else:\n",
    "        print(\"Wrong email\")\n",
    "else:\n",
    "    print(\"Wrong username\")                    "
   ]
  },
  {
   "cell_type": "code",
   "execution_count": 19,
   "metadata": {},
   "outputs": [
    {
     "name": "stdout",
     "output_type": "stream",
     "text": [
      "Wrong email\n"
     ]
    }
   ],
   "source": [
    "username=input(\"Enter name\")\n",
    "email=input(\"Enter email\")\n",
    "password=input(\"Enter password\")\n",
    "if username!=\"Mohd Paiker Abbas\":\n",
    "     print(\"Wrong username\")                    \n",
    "elif email!=\"paiker@gmail.com\":\n",
    "     print(\"Wrong email\")\n",
    "elif password==\"qwerty\":\n",
    "     print(\"Wrong password\")\n",
    "else:     \n",
    "    print(\"python👍\")                  "
   ]
  },
  {
   "cell_type": "code",
   "execution_count": 20,
   "metadata": {},
   "outputs": [
    {
     "name": "stdout",
     "output_type": "stream",
     "text": [
      "Wrong email\n"
     ]
    }
   ],
   "source": [
    "username=input(\"Enter name\")\n",
    "email=input(\"Enter email\")\n",
    "password=input(\"Enter password\")\n",
    "if username!=\"Mohd Paiker Abbas\":\n",
    "     print(\"Wrong username\")                    \n",
    "elif email!=\"paiker@gmail.com\":\n",
    "     print(\"Wrong email\")\n",
    "elif password==\"qwerty\":\n",
    "     print(\"Wrong password\")\n",
    "else:     \n",
    "    print(\"python👍\")                  "
   ]
  },
  {
   "cell_type": "markdown",
   "metadata": {},
   "source": [
    "*WAP TO ASSIGN GRADES ACC TO MARKS*"
   ]
  },
  {
   "cell_type": "code",
   "execution_count": 25,
   "metadata": {},
   "outputs": [
    {
     "name": "stdout",
     "output_type": "stream",
     "text": [
      "Grade A\n"
     ]
    }
   ],
   "source": [
    "marks=input(\"Enter the marks\")\n",
    "if not marks.isnumeric():\n",
    "    print(\"Invalid\")\n",
    "else:\n",
    "    marks=int(marks)\n",
    "if  marks>=90:\n",
    "     print(\"Grade A\")\n",
    "elif marks>=80:\n",
    "    print(\"Grade B\")\n",
    "elif marks>=70:\n",
    "    print(\"Grade C\")\n",
    "elif marks>=60:\n",
    "    print(\"Grade D\")\n",
    "else:\n",
    "    print(\"Grade F\")  \n"
   ]
  },
  {
   "cell_type": "code",
   "execution_count": 26,
   "metadata": {},
   "outputs": [
    {
     "name": "stdout",
     "output_type": "stream",
     "text": [
      "Grade F\n"
     ]
    }
   ],
   "source": [
    "marks=input(\"Enter the marks\")\n",
    "if not marks.isnumeric():\n",
    "    print(\"Invalid\")\n",
    "else:\n",
    "    marks=int(marks)\n",
    "if  marks>=90:\n",
    "    print(\"Grade A\")\n",
    "elif marks>=80:\n",
    "    print(\"Grade B\")\n",
    "elif marks>=70:\n",
    "    print(\"Grade C\")\n",
    "elif marks>=60:\n",
    "    print(\"Grade D\")\n",
    "else:\n",
    "    print(\"Grade F\")  \n"
   ]
  },
  {
   "cell_type": "code",
   "execution_count": null,
   "metadata": {},
   "outputs": [],
   "source": []
  }
 ],
 "metadata": {
  "kernelspec": {
   "display_name": "Python 3.9.12 ('base')",
   "language": "python",
   "name": "python3"
  },
  "language_info": {
   "codemirror_mode": {
    "name": "ipython",
    "version": 3
   },
   "file_extension": ".py",
   "mimetype": "text/x-python",
   "name": "python",
   "nbconvert_exporter": "python",
   "pygments_lexer": "ipython3",
   "version": "3.9.12"
  },
  "orig_nbformat": 4,
  "vscode": {
   "interpreter": {
    "hash": "c2a45b14d845e25b6e1ccfe89678e79c672e8c1e8e7566573eec535183b18a0e"
   }
  }
 },
 "nbformat": 4,
 "nbformat_minor": 2
}
