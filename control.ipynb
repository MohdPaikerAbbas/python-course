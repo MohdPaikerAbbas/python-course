{
 "cells": [
  {
   "cell_type": "code",
   "execution_count": 2,
   "metadata": {},
   "outputs": [
    {
     "name": "stdout",
     "output_type": "stream",
     "text": [
      "Even\n",
      "End\n"
     ]
    }
   ],
   "source": [
    "x=1356\n",
    "if x%2==0:\n",
    "   print(\"Even\")\n",
    "print(\"End\")   "
   ]
  },
  {
   "cell_type": "code",
   "execution_count": 3,
   "metadata": {},
   "outputs": [
    {
     "name": "stdout",
     "output_type": "stream",
     "text": [
      "Even\n",
      "End\n"
     ]
    }
   ],
   "source": [
    "x=1356\n",
    "if x%2==0:\n",
    "   print(\"Even\")\n",
    "   print(\"End\") #Identation  "
   ]
  },
  {
   "cell_type": "code",
   "execution_count": 11,
   "metadata": {},
   "outputs": [
    {
     "name": "stdout",
     "output_type": "stream",
     "text": [
      "Well done\n"
     ]
    }
   ],
   "source": [
    "num=input(\"Enter a number\")\n",
    "if num.isnumeric():#isnumeric is string function\n",
    "   print(\"Well done\")\n",
    "   num=int(num)\n",
    "else:\n",
    "    print(\"Bad input\")   "
   ]
  },
  {
   "cell_type": "code",
   "execution_count": 5,
   "metadata": {},
   "outputs": [
    {
     "name": "stdout",
     "output_type": "stream",
     "text": [
      "Bad input\n"
     ]
    }
   ],
   "source": [
    "num=input(\"Enter a number\")\n",
    "if num.isnumeric():\n",
    "   print(\"Well done\")\n",
    "   num=int(num)\n",
    "else:\n",
    "    print(\"Bad input\")  "
   ]
  },
  {
   "cell_type": "code",
   "execution_count": 10,
   "metadata": {},
   "outputs": [
    {
     "name": "stdout",
     "output_type": "stream",
     "text": [
      "Bad input\n"
     ]
    }
   ],
   "source": [
    "num=input(\"Enter a number\")\n",
    "if num.isnumeric():\n",
    "   print(\"Well done\")\n",
    "   num=int(num)\n",
    "else:\n",
    "    print(\"Bad input\")   "
   ]
  },
  {
   "cell_type": "code",
   "execution_count": 12,
   "metadata": {},
   "outputs": [
    {
     "name": "stdout",
     "output_type": "stream",
     "text": [
      "python\n"
     ]
    }
   ],
   "source": [
    "username=\"Mohd Paiker Abbas\"\n",
    "email=\"paiker@gmail.com\"\n",
    "password=\"qwerty\"\n",
    "if username==\"Mohd Paiker Abbas\":\n",
    "    if email==\"paiker@gmail.com\":\n",
    "        if password==\"qwerty\":\n",
    "            print(\"python\")\n",
    "        else:\n",
    "            print(\"Wrong password\")\n",
    "    else:\n",
    "        print(\"Wrong email\")\n",
    "else:\n",
    "    print(\"Wrong username\")                    "
   ]
  },
  {
   "cell_type": "code",
   "execution_count": 13,
   "metadata": {},
   "outputs": [
    {
     "name": "stdout",
     "output_type": "stream",
     "text": [
      "Wrong username\n"
     ]
    }
   ],
   "source": [
    "username=input(\"Enter name\")\n",
    "email=input(\"Enter email\")\n",
    "password=input(\"Enter password\")\n",
    "if username==\"Mohd Paiker Abbas\":\n",
    "    if email==\"paiker@gmail.com\":\n",
    "        if password==\"qwerty\":\n",
    "            print(\"python\")\n",
    "        else:\n",
    "            print(\"Wrong password\")\n",
    "    else:\n",
    "        print(\"Wrong email\")\n",
    "else:\n",
    "    print(\"Wrong username\")                    "
   ]
  },
  {
   "cell_type": "code",
   "execution_count": 14,
   "metadata": {},
   "outputs": [
    {
     "name": "stdout",
     "output_type": "stream",
     "text": [
      "Wrong email\n"
     ]
    }
   ],
   "source": [
    "username=input(\"Enter name\")\n",
    "email=input(\"Enter email\")\n",
    "password=input(\"Enter password\")\n",
    "if username==\"Mohd Paiker Abbas\":\n",
    "    if email==\"paiker@gmail.com\":\n",
    "        if password==\"qwerty\":\n",
    "            print(\"python\")\n",
    "        else:\n",
    "            print(\"Wrong password\")\n",
    "    else:\n",
    "        print(\"Wrong email\")\n",
    "else:\n",
    "    print(\"Wrong username\")                    "
   ]
  },
  {
   "cell_type": "code",
   "execution_count": 15,
   "metadata": {},
   "outputs": [
    {
     "name": "stdout",
     "output_type": "stream",
     "text": [
      "Wrong password\n"
     ]
    }
   ],
   "source": [
    "username=input(\"Enter name\")\n",
    "email=input(\"Enter email\")\n",
    "password=input(\"Enter password\")\n",
    "if username==\"Mohd Paiker Abbas\":\n",
    "    if email==\"paiker@gmail.com\":\n",
    "        if password==\"qwerty\":\n",
    "            print(\"python\")\n",
    "        else:\n",
    "            print(\"Wrong password\")\n",
    "    else:\n",
    "        print(\"Wrong email\")\n",
    "else:\n",
    "    print(\"Wrong username\")                    "
   ]
  },
  {
   "cell_type": "code",
   "execution_count": 16,
   "metadata": {},
   "outputs": [
    {
     "name": "stdout",
     "output_type": "stream",
     "text": [
      "python\n"
     ]
    }
   ],
   "source": [
    "username=input(\"Enter name\")\n",
    "email=input(\"Enter email\")\n",
    "password=input(\"Enter password\")\n",
    "if username==\"Mohd Paiker Abbas\":\n",
    "    if email==\"paiker@gmail.com\":\n",
    "        if password==\"qwerty\":\n",
    "            print(\"python\")\n",
    "        else:\n",
    "            print(\"Wrong password\")\n",
    "    else:\n",
    "        print(\"Wrong email\")\n",
    "else:\n",
    "    print(\"Wrong username\")                    "
   ]
  },
  {
   "cell_type": "code",
   "execution_count": 18,
   "metadata": {},
   "outputs": [
    {
     "name": "stdout",
     "output_type": "stream",
     "text": [
      "python\n"
     ]
    }
   ],
   "source": [
    "username=input(\"Enter name\")\n",
    "email=input(\"Enter email\")\n",
    "password=input(\"Enter password\")\n",
    "if username==\"Mohd Paiker Abbas\":\n",
    "    if email==\"paiker@gmail.com\":\n",
    "        if password==\"3545\":\n",
    "            print(\"python\")\n",
    "        else:\n",
    "            print(\"Wrong password\")\n",
    "    else:\n",
    "        print(\"Wrong email\")\n",
    "else:\n",
    "    print(\"Wrong username\")                    "
   ]
  },
  {
   "cell_type": "code",
   "execution_count": 19,
   "metadata": {},
   "outputs": [
    {
     "name": "stdout",
     "output_type": "stream",
     "text": [
      "Wrong email\n"
     ]
    }
   ],
   "source": [
    "username=input(\"Enter name\")\n",
    "email=input(\"Enter email\")\n",
    "password=input(\"Enter password\")\n",
    "if username!=\"Mohd Paiker Abbas\":\n",
    "     print(\"Wrong username\")                    \n",
    "elif email!=\"paiker@gmail.com\":\n",
    "     print(\"Wrong email\")\n",
    "elif password==\"qwerty\":\n",
    "     print(\"Wrong password\")\n",
    "else:     \n",
    "    print(\"python👍\")                  "
   ]
  },
  {
   "cell_type": "code",
   "execution_count": 20,
   "metadata": {},
   "outputs": [
    {
     "name": "stdout",
     "output_type": "stream",
     "text": [
      "Wrong email\n"
     ]
    }
   ],
   "source": [
    "username=input(\"Enter name\")\n",
    "email=input(\"Enter email\")\n",
    "password=input(\"Enter password\")\n",
    "if username!=\"Mohd Paiker Abbas\":\n",
    "     print(\"Wrong username\")                    \n",
    "elif email!=\"paiker@gmail.com\":\n",
    "     print(\"Wrong email\")\n",
    "elif password==\"qwerty\":\n",
    "     print(\"Wrong password\")\n",
    "else:     \n",
    "    print(\"python👍\")                  "
   ]
  },
  {
   "cell_type": "markdown",
   "metadata": {},
   "source": [
    "*WAP TO ASSIGN GRADES ACC TO MARKS*"
   ]
  },
  {
   "cell_type": "code",
   "execution_count": 25,
   "metadata": {},
   "outputs": [
    {
     "name": "stdout",
     "output_type": "stream",
     "text": [
      "Grade A\n"
     ]
    }
   ],
   "source": [
    "marks=input(\"Enter the marks\")\n",
    "if not marks.isnumeric():\n",
    "    print(\"Invalid\")\n",
    "else:\n",
    "    marks=int(marks)\n",
    "if  marks>=90:\n",
    "     print(\"Grade A\")\n",
    "elif marks>=80:\n",
    "    print(\"Grade B\")\n",
    "elif marks>=70:\n",
    "    print(\"Grade C\")\n",
    "elif marks>=60:\n",
    "    print(\"Grade D\")\n",
    "else:\n",
    "    print(\"Grade F\")  \n"
   ]
  },
  {
   "cell_type": "code",
   "execution_count": 26,
   "metadata": {},
   "outputs": [
    {
     "name": "stdout",
     "output_type": "stream",
     "text": [
      "Grade F\n"
     ]
    }
   ],
   "source": [
    "marks=input(\"Enter the marks\")\n",
    "if not marks.isnumeric():\n",
    "    print(\"Invalid\")\n",
    "else:\n",
    "    marks=int(marks)\n",
    "if  marks>=90:\n",
    "    print(\"Grade A\")\n",
    "elif marks>=80:\n",
    "    print(\"Grade B\")\n",
    "elif marks>=70:\n",
    "    print(\"Grade C\")\n",
    "elif marks>=60:\n",
    "    print(\"Grade D\")\n",
    "else:\n",
    "    print(\"Grade F\")  \n"
   ]
  },
  {
   "cell_type": "code",
   "execution_count": 1,
   "metadata": {},
   "outputs": [
    {
     "data": {
      "text/plain": [
       "9"
      ]
     },
     "execution_count": 1,
     "metadata": {},
     "output_type": "execute_result"
    }
   ],
   "source": [
    "word ='Volkwagen'\n",
    "len(word)"
   ]
  },
  {
   "cell_type": "code",
   "execution_count": 2,
   "metadata": {},
   "outputs": [
    {
     "name": "stdout",
     "output_type": "stream",
     "text": [
      "V\n",
      "o\n",
      "l\n",
      "k\n",
      "w\n",
      "a\n",
      "g\n",
      "e\n",
      "n\n"
     ]
    }
   ],
   "source": [
    "for i in word:\n",
    "    print(i)"
   ]
  },
  {
   "cell_type": "code",
   "execution_count": 5,
   "metadata": {},
   "outputs": [
    {
     "name": "stdout",
     "output_type": "stream",
     "text": [
      "P\n",
      "Y\n",
      "T\n",
      "H\n",
      "O\n",
      "N\n"
     ]
    }
   ],
   "source": [
    "X ='PYTHON'\n",
    "for j in X:\n",
    "    print(j)"
   ]
  },
  {
   "cell_type": "code",
   "execution_count": 8,
   "metadata": {},
   "outputs": [
    {
     "name": "stdout",
     "output_type": "stream",
     "text": [
      "i have Apple\n",
      "i have Mango\n",
      "i have Banana\n",
      "i have Lemon\n"
     ]
    }
   ],
   "source": [
    "fruits=['Apple','Mango','Banana','Lemon']\n",
    "for i in fruits:\n",
    "    print(f'i have {i}') "
   ]
  },
  {
   "cell_type": "markdown",
   "metadata": {},
   "source": [
    "*String settings*\n",
    "\n",
    "* r=raw string\n",
    "\n",
    "* f=formatted string\n",
    "\n",
    "* b=byte string"
   ]
  },
  {
   "cell_type": "code",
   "execution_count": 10,
   "metadata": {},
   "outputs": [
    {
     "name": "stdout",
     "output_type": "stream",
     "text": [
      "you got point 0\n",
      "you got point 1\n",
      "you got point 2\n",
      "you got point 3\n",
      "you got point 4\n",
      "you got point 5\n"
     ]
    }
   ],
   "source": [
    "for i in range(6):\n",
    "    print('you got point',i)"
   ]
  },
  {
   "cell_type": "code",
   "execution_count": 12,
   "metadata": {},
   "outputs": [
    {
     "name": "stdout",
     "output_type": "stream",
     "text": [
      "sheep 2\n",
      "sheep 3\n",
      "sheep 4\n",
      "sheep 5\n",
      "sheep 6\n",
      "sheep 7\n",
      "sheep 8\n",
      "sheep 9\n",
      "sheep 10\n"
     ]
    }
   ],
   "source": [
    "for num in range(2,11):\n",
    "    print('sheep',num)"
   ]
  },
  {
   "cell_type": "code",
   "execution_count": 14,
   "metadata": {},
   "outputs": [
    {
     "name": "stdout",
     "output_type": "stream",
     "text": [
      "level 1\n",
      "level 4\n",
      "level 7\n",
      "level 10\n",
      "level 13\n",
      "level 16\n",
      "level 19\n"
     ]
    }
   ],
   "source": [
    "for num in range(1,20,3):\n",
    "    print('level',num)"
   ]
  },
  {
   "cell_type": "markdown",
   "metadata": {},
   "source": [
    "* REVERSE LOOP"
   ]
  },
  {
   "cell_type": "code",
   "execution_count": 16,
   "metadata": {},
   "outputs": [
    {
     "name": "stdout",
     "output_type": "stream",
     "text": [
      "10\n",
      "9\n",
      "8\n",
      "7\n",
      "6\n",
      "5\n",
      "4\n",
      "3\n",
      "2\n"
     ]
    }
   ],
   "source": [
    "for num in range(10,1,-1):\n",
    "    print(num)"
   ]
  },
  {
   "cell_type": "markdown",
   "metadata": {},
   "source": [
    "*PATTERN LOOP*"
   ]
  },
  {
   "cell_type": "code",
   "execution_count": 17,
   "metadata": {},
   "outputs": [
    {
     "name": "stdout",
     "output_type": "stream",
     "text": [
      "\n",
      "NA\n",
      "NANA\n",
      "NANANA\n",
      "NANANANA\n",
      "NANANANANA\n",
      "NANANANANANA\n",
      "NANANANANANANA\n",
      "NANANANANANANANA\n",
      "NANANANANANANANANA\n"
     ]
    }
   ],
   "source": [
    "for i in range(10):\n",
    "    print(i * 'NA')"
   ]
  },
  {
   "cell_type": "markdown",
   "metadata": {},
   "source": [
    " *EXTRA FUNCTIONAL SETTINGS IN FOR LOOP*\n",
    " * ENUMERATE \n",
    " * ZIP\n"
   ]
  },
  {
   "cell_type": "code",
   "execution_count": 32,
   "metadata": {},
   "outputs": [],
   "source": [
    "fruits=['Apple','Mango','Banana','Lemon']\n"
   ]
  },
  {
   "cell_type": "code",
   "execution_count": 4,
   "metadata": {},
   "outputs": [
    {
     "name": "stdout",
     "output_type": "stream",
     "text": [
      "0 Apple\n",
      "1 Mango\n",
      "2 Banana\n",
      "3 Lemon\n"
     ]
    }
   ],
   "source": [
    "fruits=['Apple','Mango','Banana','Lemon']\n",
    "for i,j in enumerate(fruits):# enumerate gives indexes of string\n",
    "    print(i,j)"
   ]
  },
  {
   "cell_type": "code",
   "execution_count": 5,
   "metadata": {},
   "outputs": [],
   "source": [
    "price=[100,60,40,10]"
   ]
  },
  {
   "cell_type": "code",
   "execution_count": 6,
   "metadata": {},
   "outputs": [
    {
     "name": "stdout",
     "output_type": "stream",
     "text": [
      "Apple 100\n",
      "Mango 60\n",
      "Banana 40\n",
      "Lemon 10\n"
     ]
    }
   ],
   "source": [
    "for f,p in zip(fruits,price):\n",
    "    print(f,p)"
   ]
  },
  {
   "cell_type": "code",
   "execution_count": 7,
   "metadata": {},
   "outputs": [],
   "source": [
    "qty=['2 kg','5kg','1 dozen',3]"
   ]
  },
  {
   "cell_type": "code",
   "execution_count": 8,
   "metadata": {},
   "outputs": [
    {
     "name": "stdout",
     "output_type": "stream",
     "text": [
      "Apple => 2 kg for 100\n",
      "Mango => 5kg for 60\n",
      "Banana => 1 dozen for 40\n",
      "Lemon => 3 for 10\n"
     ]
    }
   ],
   "source": [
    "for f,p,q in zip(fruits,price,qty):\n",
    "    print(f,'=>',q,'for',p)"
   ]
  },
  {
   "cell_type": "code",
   "execution_count": null,
   "metadata": {},
   "outputs": [],
   "source": []
  }
 ],
 "metadata": {
  "kernelspec": {
   "display_name": "Python 3.9.12 ('base')",
   "language": "python",
   "name": "python3"
  },
  "language_info": {
   "codemirror_mode": {
    "name": "ipython",
    "version": 3
   },
   "file_extension": ".py",
   "mimetype": "text/x-python",
   "name": "python",
   "nbconvert_exporter": "python",
   "pygments_lexer": "ipython3",
   "version": "3.9.12"
  },
  "orig_nbformat": 4,
  "vscode": {
   "interpreter": {
    "hash": "c2a45b14d845e25b6e1ccfe89678e79c672e8c1e8e7566573eec535183b18a0e"
   }
  }
 },
 "nbformat": 4,
 "nbformat_minor": 2
}
